{
 "cells": [
  {
   "cell_type": "markdown",
   "metadata": {},
   "source": [
    "# Basic Simulation Tutorial\n",
    "\n",
    "This notebook introduces the core concepts of Scene2Sim through hands-on examples.\n",
    "\n",
    "## Learning Objectives\n",
    "- Load and inspect scenarios from JSON annotations\n",
    "- Run basic simulations with safety metric computation\n",
    "- Visualize results and export data for analysis\n",
    "- Understand the annotation-native simulation paradigm"
   ]
  },
  {
   "cell_type": "code",
   "execution_count": null,
   "metadata": {},
   "outputs": [],
   "source": [
    "# Setup\n",
    "%matplotlib inline\n",
    "import numpy as np\n",
    "import pandas as pd\n",
    "import matplotlib.pyplot as plt\n",
    "import seaborn as sns\n",
    "\n",
    "# Scene2Sim imports\n",
    "from Scene2Sim import load_scenario, ADSimulator\n",
    "from Scene2Sim.core.scene import AgentType\n",
    "from Scene2Sim.metrics.safety import SafetyMetrics\n",
    "\n",
    "# Configure visualization\n",
    "plt.style.use('seaborn-v0_8')\n",
    "sns.set_palette(\"husl\")"
   ]
  },
  {
   "cell_type": "markdown",
   "metadata": {},
   "source": [
    "## Part 1: Loading and Inspecting Scenarios"
   ]
  },
  {
   "cell_type": "code",
   "execution_count": null,
   "metadata": {},
   "outputs": [],
   "source": [
    "# Load a sample scenario\n",
    "scene = load_scenario(\"scenarios/urban_intersection.json\", \"intersection_001\")\n",
    "\n",
    "print(f\"Scenario: {scene.id}\")\n",
    "print(f\"Duration: {scene.duration}s\")\n",
    "print(f\"Agents: {len(scene.agents)}\")\n",
    "print(f\"Road width: {scene.road.width}m\")\n",
    "print(f\"Lanes: {getattr(scene.road, 'n_ego_lanes', 0)} ego, {getattr(scene.road, 'n_opposite_lanes', 0)} opposite\")"
   ]
  },
  {
   "cell_type": "code",
   "execution_count": null,
   "metadata": {},
   "outputs": [],
   "source": [
    "# Inspect agents\n",
    "for agent_id, agent in scene.agents.items():\n",
    "    print(f\"\\nAgent: {agent_id}\")\n",
    "    print(f\"  Type: {str(agent.agent_type)}\")\n",
    "    print(f\"  Size: {agent.length}m x {agent.width}m\")\n",
    "    print(f\"  Trajectory: {len(agent.trajectory.waypoints)} waypoints\")\n",
    "    \n",
    "    if agent.trajectory.waypoints:\n",
    "        first_wp = agent.trajectory.waypoints[0]\n",
    "        last_wp = agent.trajectory.waypoints[-1]\n",
    "        print(f\"  Start: t={first_wp.t:.1f}s, pos=({first_wp.x:.1f}, {first_wp.y:.1f}), v={first_wp.v:.1f}m/s\")\n",
    "        print(f\"  End:   t={last_wp.t:.1f}s, pos=({last_wp.x:.1f}, {last_wp.y:.1f}), v={last_wp.v:.1f}m/s\")"
   ]
  },
  {
   "cell_type": "markdown",
   "metadata": {},
   "source": [
    "## Part 2: Running Your First Simulation"
   ]
  },
  {
   "cell_type": "code",
   "execution_count": null,
   "metadata": {},
   "outputs": [],
   "source": [
    "# Create simulator with 20 FPS (dt=0.05)\n",
    "sim = ADSimulator(\n",
    "    scene, \n",
    "    dt=0.05,\n",
    "    enable_collisions=True,\n",
    "    enable_metrics=True,\n",
    "    random_seed=42\n",
    ")\n",
    "\n",
    "print(f\"Simulator configured:\")\n",
    "print(f\"  Timestep: {sim.dt}s ({1/sim.dt:.0f} FPS)\")\n",
    "print(f\"  Collision detection: {sim.enable_collisions}\")\n",
    "print(f\"  Safety metrics: {sim.enable_metrics}\")"
   ]
  },
  {
   "cell_type": "code",
   "execution_count": null,
   "metadata": {},
   "outputs": [],
   "source": [
    "# Run simulation\n",
    "print(\"Running simulation...\")\n",
    "log = sim.run(headless=True)\n",
    "\n",
    "print(f\"\\nSimulation completed!\")\n",
    "print(f\"  Wall-clock time: {log.duration:.3f}s\")\n",
    "print(f\"  Simulated time: {log.states[-1].time:.1f}s\")\n",
    "print(f\"  Speedup: {log.states[-1].time / log.duration:.0f}x real-time\")"
   ]
  },
  {
   "cell_type": "markdown",
   "metadata": {},
   "source": [
    "## Part 3: Analyzing Safety Metrics"
   ]
  },
  {
   "cell_type": "code",
   "execution_count": null,
   "metadata": {},
   "outputs": [],
   "source": [
    "# Display safety metrics\n",
    "metrics = log.metrics\n",
    "\n",
    "print(\"=== SAFETY ANALYSIS ===\")\n",
    "print(f\"Overall Safety: {'SAFE' if metrics['is_safe'] else ' UNSAFE'}\")\n",
    "print(f\"Collision-free: {'YES' if metrics['is_collision_free'] else ' NO'}\")\n",
    "print(f\"Collision Events: {metrics['n_collisions']}\")\n",
    "print(f\"TTC Events (<3s): {metrics['n_ttc_events']}\")\n",
    "print(f\"Minimum TTC: {metrics['min_ttc']:.2f}s\")\n",
    "print(f\"Mean TTC: {metrics['mean_ttc']:.2f}s\")\n",
    "print(f\"Minimum Distance: {metrics['min_distance_overall']:.2f}m\")\n",
    "print(f\"Mean Min Distance: {metrics['mean_min_distance']:.2f}m\")"
   ]
  },
  {
   "cell_type": "code",
   "execution_count": null,
   "metadata": {},
   "outputs": [],
   "source": [
    "# Convert to DataFrame\n",
    "df = log.to_dataframe()\n",
    "print(f\"Simulation data shape: {df.shape}\")\n",
    "print(f\"Columns: {list(df.columns)}\")\n",
    "df.head()"
   ]
  },
  {
   "cell_type": "markdown",
   "metadata": {},
   "source": [
    "## Part 4: Visualization"
   ]
  },
  {
   "cell_type": "code",
   "execution_count": null,
   "metadata": {},
   "outputs": [],
   "source": [
    "# Plot agent trajectories\n",
    "fig, axes = plt.subplots(2, 2, figsize=(15, 10))\n",
    "\n",
    "for agent_id in df['agent_id'].unique():\n",
    "    agent_data = df[df['agent_id'] == agent_id]\n",
    "    axes[0,0].plot(agent_data['x'], agent_data['y'], label=agent_id, linewidth=2, marker='o', markersize=2)\n",
    "axes[0,0].set_xlabel('X Position (m)')\n",
    "axes[0,0].set_ylabel('Y Position (m)')\n",
    "axes[0,0].set_title('Agent Trajectories')\n",
    "axes[0,0].legend()\n",
    "axes[0,0].grid(True, alpha=0.3)\n",
    "axes[0,0].axis('equal')\n",
    "\n",
    "# Speed profiles\n",
    "for agent_id in df['agent_id'].unique():\n",
    "    agent_data = df[df['agent_id'] == agent_id]\n",
    "    axes[0,1].plot(agent_data['time'], agent_data['v'], label=agent_id, linewidth=2)\n",
    "axes[0,1].set_xlabel('Time (s)')\n",
    "axes[0,1].set_ylabel('Speed (m/s)')\n",
    "axes[0,1].set_title('Speed Profiles')\n",
    "axes[0,1].legend()\n",
    "axes[0,1].grid(True, alpha=0.3)\n",
    "\n",
    "# Inter-agent distance\n",
    "ego_data = df[df['agent_id'] == 'ego']\n",
    "ped_data = df[df['agent_id'] == 'ped_0']\n",
    "distances = np.sqrt((ego_data['x'].values - ped_data['x'].values)**2 + (ego_data['y'].values - ped_data['y'].values)**2)\n",
    "axes[1,0].plot(ego_data['time'], distances, linewidth=2, color='red')\n",
    "axes[1,0].axhline(y=1.0, color='orange', linestyle='--', alpha=0.7, label='Safety threshold')\n",
    "axes[1,0].set_xlabel('Time (s)')\n",
    "axes[1,0].set_ylabel('Distance (m)')\n",
    "axes[1,0].set_title('Inter-Agent Distance')\n",
    "axes[1,0].legend()\n",
    "axes[1,0].grid(True, alpha=0.3)\n",
    "\n",
    "# Collision timeline\n",
    "collision_indicators = [1 if bool(state.collisions) else 0 for state in log.states]\n",
    "times = [state.time for state in log.states]\n",
    "axes[1,1].fill_between(times, collision_indicators, alpha=0.3, color='red', label='Collision periods')\n",
    "axes[1,1].set_xlabel('Time (s)')\n",
    "axes[1,1].set_ylabel('Collision Status')\n",
    "axes[1,1].set_title('Collision Timeline')\n",
    "axes[1,1].set_ylim(-0.1, 1.1)\n",
    "axes[1,1].legend()\n",
    "axes[1,1].grid(True, alpha=0.3)\n",
    "\n",
    "plt.tight_layout()\n",
    "plt.savefig('basic_simulation_analysis.png', dpi=150, bbox_inches='tight')\n",
    "plt.show()"
   ]
  },
  {
   "cell_type": "markdown",
   "metadata": {},
   "source": [
    "## Part 5: Comparing Multiple Scenarios"
   ]
  },
  {
   "cell_type": "code",
   "execution_count": null,
   "metadata": {},
   "outputs": [],
   "source": [
    "# Load and compare multiple scenarios\n",
    "scenario_ids = ['intersection_001', 'intersection_002', 'intersection_003']\n",
    "results = []\n",
    "\n",
    "for scenario_id in scenario_ids:\n",
    "    try:\n",
    "        scene = load_scenario(\"scenarios/urban_intersection.json\", scenario_id)\n",
    "        sim = ADSimulator(scene, dt=0.05, random_seed=42)\n",
    "        log = sim.run(headless=True)\n",
    "        results.append({\n",
    "            'scenario_id': scenario_id,\n",
    "            'n_agents': len(scene.agents),\n",
    "            'duration': scene.duration,\n",
    "            'simulation_time': log.duration,\n",
    "            'is_safe': log.metrics['is_safe'],\n",
    "            'n_collisions': log.metrics['n_collisions'],\n",
    "            'min_ttc': log.metrics['min_ttc'],\n",
    "            'min_distance': log.metrics['min_distance_overall']\n",
    "        })\n",
    "        print(f\"✅ Completed {scenario_id}\")\n",
    "    except Exception as e:\n",
    "        print(f\"❌ Failed {scenario_id}: {e}\")\n",
    "\n",
    "comparison_df = pd.DataFrame(results)\n",
    "print(f\"\\nScenario Comparison:\")\n",
    "comparison_df"
   ]
  },
  {
   "cell_type": "code",
   "execution_count": null,
   "metadata": {},
   "outputs": [],
   "source": [
    "# Visualize scenario comparison\n",
    "fig, axes = plt.subplots(1, 3, figsize=(15, 5))\n",
    "safety_counts = comparison_df['is_safe'].value_counts()\n",
    "axes[0].pie(safety_counts.values, labels=['Unsafe', 'Safe'], autopct='%1.1f%%')\n",
    "axes[0].set_title('Safety Distribution')\n",
    "\n",
    "valid_ttc = comparison_df[comparison_df['min_ttc'] < float('inf')]\n",
    "if not valid_ttc.empty:\n",
    "    axes[1].bar(valid_ttc['scenario_id'], valid_ttc['min_ttc'])\n",
    "    axes[1].set_xlabel('Scenario')\n",
    "    axes[1].set_ylabel('Minimum TTC (s)')\n",
    "    axes[1].set_title('Minimum Time-to-Collision')\n",
    "    axes[1].tick_params(axis='x', rotation=45)\n",
    "\n",
    "speedup = comparison_df['duration'] / comparison_df['simulation_time']\n",
    "axes[2].bar(comparison_df['scenario_id'], speedup)\n",
    "axes[2].set_xlabel('Scenario')\n",
    "axes[2].set_ylabel('Speedup (x real-time)')\n",
    "axes[2].set_title('Simulation Performance')\n",
    "axes[2].tick_params(axis='x', rotation=45)\n",
    "\n",
    "plt.tight_layout()\n",
    "plt.show()"
   ]
  },
  {
   "cell_type": "markdown",
   "metadata": {},
   "source": [
    "## Part 6: Export and Further Analysis"
   ]
  },
  {
   "cell_type": "code",
   "execution_count": null,
   "metadata": {},
   "outputs": [],
   "source": [
    "# Export data\n",
    "df.to_csv('simulation_data.csv', index=False)\n",
    "comparison_df.to_csv('scenario_comparison.csv', index=False)\n",
    "print(\" Exported data files:\")\n",
    "print(\"  - simulation_data.csv: Detailed timestep data\")\n",
    "print(\"  - scenario_comparison.csv: Summary metrics\")\n",
    "print(\"  - basic_simulation_analysis.png: Visualization\")"
   ]
  },
  {
   "cell_type": "code",
   "execution_count": null,
   "metadata": {},
   "outputs": [],
   "source": [
    "# Summary statistics\n",
    "print(\"=== SIMULATION SUMMARY ===\")\n",
    "print(f\"Scenarios analyzed: {len(results)}\")\n",
    "print(f\"Safe scenarios: {comparison_df['is_safe'].sum()}/{len(comparison_df)}\")\n",
    "print(f\"Average simulation speedup: {speedup.mean():.1f}x real-time\")\n",
    "\n",
    "if not valid_ttc.empty:\n",
    "    print(f\"TTC Statistics:\")\n",
    "    print(f\"  Mean: {valid_ttc['min_ttc'].mean():.2f}s\")\n",
    "    print(f\"  Std:  {valid_ttc['min_ttc'].std():.2f}s\")\n",
    "    print(f\"  Min:  {valid_ttc['min_ttc'].min():.2f}s\")\n",
    "    print(f\"  Max:  {valid_ttc['min_ttc'].max():.2f}s\")"
   ]
  },
  {
   "cell_type": "markdown",
   "metadata": {},
   "source": [
    "## Key Takeaways\n",
    "\n",
    "1. **Annotation-Native**: Scene2Sim directly ingests dataset annotations without reconstruction\n",
    "2. **Fast & Deterministic**: Achieves real-time+ performance with reproducible results\n",
    "3. **Rich Metrics**: Comprehensive safety evaluation with TTC, collision detection, and distance tracking\n",
    "4. **Research-Ready**: Easy export to standard formats for further analysis\n",
    "\n",
    "## Next Steps\n",
    "\n",
    "- [**Perturbation Analysis**](02_perturbation_analysis.ipynb): Systematic scenario modifications\n",
    "- [**Advanced Safety Metrics**](03_safety_metrics.ipynb): Deep dive into safety evaluation\n",
    "-  [**Monte Carlo Studies**](04_monte_carlo.ipynb): Large-scale statistical analysis"
   ]
  }
 ],
 "metadata": {
  "kernelspec": {
   "display_name": "Python 3",
   "language": "python",
   "name": "python3"
  },
  "language_info": {
   "codemirror_mode": {
    "name": "ipython",
    "version": 3
   },
   "file_extension": ".py",
   "mimetype": "text/x-python",
   "name": "python",
   "nbconvert_exporter": "python",
   "pygments_lexer": "ipython3",
   "version": "3.8.10"
  }
 },
 "nbformat": 4,
 "nbformat_minor": 4
}
